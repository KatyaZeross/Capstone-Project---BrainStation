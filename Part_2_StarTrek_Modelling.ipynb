{
 "cells": [
  {
   "cell_type": "markdown",
   "metadata": {
    "id": "dAwIhQ1hDEhA"
   },
   "source": [
    "# Capstone Project: Star Trek IMDB Ratings Predictor - Katya Kogan\n",
    "--- \n",
    "## Part 2\n",
    "\n",
    "Now we've successfully cleaned and prepared our data, we can begin our modelling process to determine if the characters (by their spoken parts) contribute to the `imdbRating`. \n",
    "\n",
    "Since we are focusing on feature importance, our models will have to be carefully chosen. (INSERT MORE INFO HERE AFTER MODELLING)\n",
    "- Logistic Regression\n",
    "- KNN\n",
    "- Random Forest\n",
    "- AdaBoost\n",
    "- Gradient Boost Tree \n",
    "\n",
    "We'll begin by importing all the relevant libraries needed for our project. \n"
   ]
  },
  {
   "cell_type": "code",
   "execution_count": 1,
   "metadata": {
    "id": "utq29HioCs5x"
   },
   "outputs": [],
   "source": [
    "# import the relevant libraries needed \n",
    "import numpy as np\n",
    "import pandas as pd\n",
    "import matplotlib.pyplot as plt\n",
    "import seaborn as sns \n",
    "\n",
    "# Ml libraries \n",
    "from sklearn.model_selection import train_test_split\n",
    "from sklearn.preprocessing import StandardScaler\n",
    "from sklearn.linear_model import LogisticRegression\n",
    "from sklearn.metrics import accuracy_score\n",
    "from sklearn.feature_extraction.text import CountVectorizer\n",
    "from sklearn.decomposition import PCA\n",
    "from sklearn.neighbors import KNeighborsClassifier\n",
    "from sklearn.tree import DecisionTreeClassifier\n",
    "from sklearn.model_selection import cross_val_score\n",
    "from sklearn.metrics import confusion_matrix, ConfusionMatrixDisplay\n",
    "\n",
    "# Ignore futurewarnings\n",
    "import warnings\n",
    "warnings.filterwarnings('ignore')"
   ]
  },
  {
   "cell_type": "markdown",
   "metadata": {
    "id": "uIAb7bKrFhyg"
   },
   "source": [
    "Now we've imported our libraries relevant to our needs, we'll begin by importing our dataset, some minor EDA and prep before getting into the nitty gritty for our models. \n",
    "\n",
    "Let's take a look. "
   ]
  },
  {
   "cell_type": "code",
   "execution_count": 2,
   "metadata": {
    "id": "kvVWapLvGMBN"
   },
   "outputs": [],
   "source": [
    "# # uploading files into colab\n",
    "# from google.colab import files\n",
    "# uploaded = files.upload()"
   ]
  },
  {
   "cell_type": "code",
   "execution_count": 3,
   "metadata": {
    "colab": {
     "base_uri": "https://localhost:8080/",
     "height": 197
    },
    "id": "foDeCZ3CCti8",
    "outputId": "0e984f1f-8522-4ed2-8a53-aff0629e00aa"
   },
   "outputs": [],
   "source": [
    "# reading in the dataframe \n",
    "# import io\n",
    "ST_df = pd.read_csv(r\"C:\\Users\\Katya\\Documents\\GitHub\\Capstone-Project---BrainStation\\StarTrek_Prepped.csv\")"
   ]
  },
  {
   "cell_type": "code",
   "execution_count": 4,
   "metadata": {
    "id": "7gm9ZoabGdOh"
   },
   "outputs": [
    {
     "data": {
      "text/html": [
       "<div>\n",
       "<style scoped>\n",
       "    .dataframe tbody tr th:only-of-type {\n",
       "        vertical-align: middle;\n",
       "    }\n",
       "\n",
       "    .dataframe tbody tr th {\n",
       "        vertical-align: top;\n",
       "    }\n",
       "\n",
       "    .dataframe thead th {\n",
       "        text-align: right;\n",
       "    }\n",
       "</style>\n",
       "<table border=\"1\" class=\"dataframe\">\n",
       "  <thead>\n",
       "    <tr style=\"text-align: right;\">\n",
       "      <th></th>\n",
       "      <th>Unnamed: 0</th>\n",
       "      <th>EPISODE</th>\n",
       "      <th>PICARD_PCT</th>\n",
       "      <th>RIKER_PCT</th>\n",
       "      <th>DATA_PCT</th>\n",
       "      <th>WORF_PCT</th>\n",
       "      <th>TROI_PCT</th>\n",
       "      <th>BEVERLY_PCT</th>\n",
       "      <th>GEORDI_PCT</th>\n",
       "      <th>Q_PCT</th>\n",
       "      <th>LORE_PCT</th>\n",
       "      <th>TOTAL_WORDS</th>\n",
       "      <th>SCRIPT</th>\n",
       "      <th>RATING</th>\n",
       "    </tr>\n",
       "  </thead>\n",
       "  <tbody>\n",
       "    <tr>\n",
       "      <th>0</th>\n",
       "      <td>0</td>\n",
       "      <td>11001001</td>\n",
       "      <td>38.84</td>\n",
       "      <td>36.79</td>\n",
       "      <td>11.73</td>\n",
       "      <td>2.05</td>\n",
       "      <td>0.00</td>\n",
       "      <td>5.16</td>\n",
       "      <td>5.43</td>\n",
       "      <td>0.0</td>\n",
       "      <td>0.0</td>\n",
       "      <td>2634.0</td>\n",
       "      <td>captains log stardate 9 the enterprise has be...</td>\n",
       "      <td>8</td>\n",
       "    </tr>\n",
       "    <tr>\n",
       "      <th>1</th>\n",
       "      <td>1</td>\n",
       "      <td>a fistful of datas</td>\n",
       "      <td>12.89</td>\n",
       "      <td>3.38</td>\n",
       "      <td>16.98</td>\n",
       "      <td>28.58</td>\n",
       "      <td>16.79</td>\n",
       "      <td>4.76</td>\n",
       "      <td>16.64</td>\n",
       "      <td>0.0</td>\n",
       "      <td>0.0</td>\n",
       "      <td>2103.0</td>\n",
       "      <td>captains log stardate  the enterprise has ent...</td>\n",
       "      <td>8</td>\n",
       "    </tr>\n",
       "    <tr>\n",
       "      <th>2</th>\n",
       "      <td>2</td>\n",
       "      <td>a matter of honor</td>\n",
       "      <td>31.03</td>\n",
       "      <td>49.78</td>\n",
       "      <td>9.18</td>\n",
       "      <td>10.01</td>\n",
       "      <td>0.00</td>\n",
       "      <td>0.00</td>\n",
       "      <td>0.00</td>\n",
       "      <td>0.0</td>\n",
       "      <td>0.0</td>\n",
       "      <td>2037.0</td>\n",
       "      <td>we are approaching starbase onesevennine,  ha...</td>\n",
       "      <td>8</td>\n",
       "    </tr>\n",
       "    <tr>\n",
       "      <th>3</th>\n",
       "      <td>3</td>\n",
       "      <td>a matter of perspective</td>\n",
       "      <td>40.31</td>\n",
       "      <td>26.84</td>\n",
       "      <td>10.69</td>\n",
       "      <td>1.68</td>\n",
       "      <td>3.44</td>\n",
       "      <td>1.03</td>\n",
       "      <td>16.00</td>\n",
       "      <td>0.0</td>\n",
       "      <td>0.0</td>\n",
       "      <td>2731.0</td>\n",
       "      <td>we have arrived at tanuga four captain the aw...</td>\n",
       "      <td>7</td>\n",
       "    </tr>\n",
       "    <tr>\n",
       "      <th>4</th>\n",
       "      <td>4</td>\n",
       "      <td>a matter of time</td>\n",
       "      <td>37.49</td>\n",
       "      <td>10.42</td>\n",
       "      <td>20.31</td>\n",
       "      <td>6.02</td>\n",
       "      <td>2.68</td>\n",
       "      <td>6.30</td>\n",
       "      <td>16.79</td>\n",
       "      <td>0.0</td>\n",
       "      <td>0.0</td>\n",
       "      <td>2841.0</td>\n",
       "      <td>captains log stardate  the enterprise is on i...</td>\n",
       "      <td>7</td>\n",
       "    </tr>\n",
       "  </tbody>\n",
       "</table>\n",
       "</div>"
      ],
      "text/plain": [
       "   Unnamed: 0                  EPISODE  PICARD_PCT  RIKER_PCT  DATA_PCT  \\\n",
       "0           0                 11001001       38.84      36.79     11.73   \n",
       "1           1       a fistful of datas       12.89       3.38     16.98   \n",
       "2           2        a matter of honor       31.03      49.78      9.18   \n",
       "3           3  a matter of perspective       40.31      26.84     10.69   \n",
       "4           4         a matter of time       37.49      10.42     20.31   \n",
       "\n",
       "   WORF_PCT  TROI_PCT  BEVERLY_PCT  GEORDI_PCT  Q_PCT  LORE_PCT  TOTAL_WORDS  \\\n",
       "0      2.05      0.00         5.16        5.43    0.0       0.0       2634.0   \n",
       "1     28.58     16.79         4.76       16.64    0.0       0.0       2103.0   \n",
       "2     10.01      0.00         0.00        0.00    0.0       0.0       2037.0   \n",
       "3      1.68      3.44         1.03       16.00    0.0       0.0       2731.0   \n",
       "4      6.02      2.68         6.30       16.79    0.0       0.0       2841.0   \n",
       "\n",
       "                                              SCRIPT  RATING  \n",
       "0   captains log stardate 9 the enterprise has be...       8  \n",
       "1   captains log stardate  the enterprise has ent...       8  \n",
       "2   we are approaching starbase onesevennine,  ha...       8  \n",
       "3   we have arrived at tanuga four captain the aw...       7  \n",
       "4   captains log stardate  the enterprise is on i...       7  "
      ]
     },
     "execution_count": 4,
     "metadata": {},
     "output_type": "execute_result"
    }
   ],
   "source": [
    "# sanity check\n",
    "ST_df.head()"
   ]
  },
  {
   "cell_type": "markdown",
   "metadata": {
    "id": "l_EKix33G3_H"
   },
   "source": [
    "Now we've successfully imported our dataframe, we can see that there is still some minor cleaning to do. We'll have to drop the `Unnamed: 0` column. \n",
    "\n",
    "In addition to that, we'll also be converting the `RATING` column into a binary classification later on as well. \n",
    "\n",
    "But first, drop the `Unnamed: 0` column. "
   ]
  },
  {
   "cell_type": "code",
   "execution_count": 5,
   "metadata": {
    "id": "bIofsIcGGmxp"
   },
   "outputs": [],
   "source": [
    "# dropping the Unnamed: 0 column\n",
    "ST_df.drop(labels='Unnamed: 0', inplace=True, axis=1)"
   ]
  },
  {
   "cell_type": "code",
   "execution_count": 6,
   "metadata": {
    "id": "TJ1kdJeKHjoR"
   },
   "outputs": [
    {
     "data": {
      "text/html": [
       "<div>\n",
       "<style scoped>\n",
       "    .dataframe tbody tr th:only-of-type {\n",
       "        vertical-align: middle;\n",
       "    }\n",
       "\n",
       "    .dataframe tbody tr th {\n",
       "        vertical-align: top;\n",
       "    }\n",
       "\n",
       "    .dataframe thead th {\n",
       "        text-align: right;\n",
       "    }\n",
       "</style>\n",
       "<table border=\"1\" class=\"dataframe\">\n",
       "  <thead>\n",
       "    <tr style=\"text-align: right;\">\n",
       "      <th></th>\n",
       "      <th>EPISODE</th>\n",
       "      <th>PICARD_PCT</th>\n",
       "      <th>RIKER_PCT</th>\n",
       "      <th>DATA_PCT</th>\n",
       "      <th>WORF_PCT</th>\n",
       "      <th>TROI_PCT</th>\n",
       "      <th>BEVERLY_PCT</th>\n",
       "      <th>GEORDI_PCT</th>\n",
       "      <th>Q_PCT</th>\n",
       "      <th>LORE_PCT</th>\n",
       "      <th>TOTAL_WORDS</th>\n",
       "      <th>SCRIPT</th>\n",
       "      <th>RATING</th>\n",
       "    </tr>\n",
       "  </thead>\n",
       "  <tbody>\n",
       "    <tr>\n",
       "      <th>0</th>\n",
       "      <td>11001001</td>\n",
       "      <td>38.84</td>\n",
       "      <td>36.79</td>\n",
       "      <td>11.73</td>\n",
       "      <td>2.05</td>\n",
       "      <td>0.00</td>\n",
       "      <td>5.16</td>\n",
       "      <td>5.43</td>\n",
       "      <td>0.0</td>\n",
       "      <td>0.0</td>\n",
       "      <td>2634.0</td>\n",
       "      <td>captains log stardate 9 the enterprise has be...</td>\n",
       "      <td>8</td>\n",
       "    </tr>\n",
       "    <tr>\n",
       "      <th>1</th>\n",
       "      <td>a fistful of datas</td>\n",
       "      <td>12.89</td>\n",
       "      <td>3.38</td>\n",
       "      <td>16.98</td>\n",
       "      <td>28.58</td>\n",
       "      <td>16.79</td>\n",
       "      <td>4.76</td>\n",
       "      <td>16.64</td>\n",
       "      <td>0.0</td>\n",
       "      <td>0.0</td>\n",
       "      <td>2103.0</td>\n",
       "      <td>captains log stardate  the enterprise has ent...</td>\n",
       "      <td>8</td>\n",
       "    </tr>\n",
       "    <tr>\n",
       "      <th>2</th>\n",
       "      <td>a matter of honor</td>\n",
       "      <td>31.03</td>\n",
       "      <td>49.78</td>\n",
       "      <td>9.18</td>\n",
       "      <td>10.01</td>\n",
       "      <td>0.00</td>\n",
       "      <td>0.00</td>\n",
       "      <td>0.00</td>\n",
       "      <td>0.0</td>\n",
       "      <td>0.0</td>\n",
       "      <td>2037.0</td>\n",
       "      <td>we are approaching starbase onesevennine,  ha...</td>\n",
       "      <td>8</td>\n",
       "    </tr>\n",
       "    <tr>\n",
       "      <th>3</th>\n",
       "      <td>a matter of perspective</td>\n",
       "      <td>40.31</td>\n",
       "      <td>26.84</td>\n",
       "      <td>10.69</td>\n",
       "      <td>1.68</td>\n",
       "      <td>3.44</td>\n",
       "      <td>1.03</td>\n",
       "      <td>16.00</td>\n",
       "      <td>0.0</td>\n",
       "      <td>0.0</td>\n",
       "      <td>2731.0</td>\n",
       "      <td>we have arrived at tanuga four captain the aw...</td>\n",
       "      <td>7</td>\n",
       "    </tr>\n",
       "    <tr>\n",
       "      <th>4</th>\n",
       "      <td>a matter of time</td>\n",
       "      <td>37.49</td>\n",
       "      <td>10.42</td>\n",
       "      <td>20.31</td>\n",
       "      <td>6.02</td>\n",
       "      <td>2.68</td>\n",
       "      <td>6.30</td>\n",
       "      <td>16.79</td>\n",
       "      <td>0.0</td>\n",
       "      <td>0.0</td>\n",
       "      <td>2841.0</td>\n",
       "      <td>captains log stardate  the enterprise is on i...</td>\n",
       "      <td>7</td>\n",
       "    </tr>\n",
       "  </tbody>\n",
       "</table>\n",
       "</div>"
      ],
      "text/plain": [
       "                   EPISODE  PICARD_PCT  RIKER_PCT  DATA_PCT  WORF_PCT  \\\n",
       "0                 11001001       38.84      36.79     11.73      2.05   \n",
       "1       a fistful of datas       12.89       3.38     16.98     28.58   \n",
       "2        a matter of honor       31.03      49.78      9.18     10.01   \n",
       "3  a matter of perspective       40.31      26.84     10.69      1.68   \n",
       "4         a matter of time       37.49      10.42     20.31      6.02   \n",
       "\n",
       "   TROI_PCT  BEVERLY_PCT  GEORDI_PCT  Q_PCT  LORE_PCT  TOTAL_WORDS  \\\n",
       "0      0.00         5.16        5.43    0.0       0.0       2634.0   \n",
       "1     16.79         4.76       16.64    0.0       0.0       2103.0   \n",
       "2      0.00         0.00        0.00    0.0       0.0       2037.0   \n",
       "3      3.44         1.03       16.00    0.0       0.0       2731.0   \n",
       "4      2.68         6.30       16.79    0.0       0.0       2841.0   \n",
       "\n",
       "                                              SCRIPT  RATING  \n",
       "0   captains log stardate 9 the enterprise has be...       8  \n",
       "1   captains log stardate  the enterprise has ent...       8  \n",
       "2   we are approaching starbase onesevennine,  ha...       8  \n",
       "3   we have arrived at tanuga four captain the aw...       7  \n",
       "4   captains log stardate  the enterprise is on i...       7  "
      ]
     },
     "execution_count": 6,
     "metadata": {},
     "output_type": "execute_result"
    }
   ],
   "source": [
    "# sanity check\n",
    "ST_df.head()"
   ]
  },
  {
   "cell_type": "markdown",
   "metadata": {
    "id": "QhH0jWvKHr4B"
   },
   "source": [
    "Great, we've successfully dropped the unnecessary column. Now, let's take a closer look at the `RATING` distribution. "
   ]
  },
  {
   "cell_type": "code",
   "execution_count": 7,
   "metadata": {
    "id": "DHEuB0ujHkG_"
   },
   "outputs": [
    {
     "data": {
      "image/png": "[encoded data removed]",
      "text/plain": [
       "<Figure size 432x288 with 1 Axes>"
      ]
     },
     "metadata": {
      "needs_background": "light"
     },
     "output_type": "display_data"
    }
   ],
   "source": [
    "# looking at the distribution of the IMDB Ratings\n",
    "values, counts = np.unique(ST_df['RATING'], return_counts=True)\n",
    "normalized_reviews = counts/counts.sum()\n",
    "\n",
    "plt.figure()\n",
    "plt.bar(values, normalized_reviews * 100, edgecolor='black', color='#002193')\n",
    "plt.xlabel('imdbRating')\n",
    "plt.ylabel('% of Reviews')\n",
    "sns.despine()\n",
    "plt.title(\"IMDB Ratings Distribution\")\n",
    "plt.savefig(\"IMDB Ratings Distribution\")\n",
    "plt.show()"
   ]
  },
  {
   "cell_type": "markdown",
   "metadata": {
    "id": "DR-JChcbJd3n"
   },
   "source": [
    "We can see that the distribution is normal, with a slight skew to the left. More than 20% of the total reviews are above a rating of 7 or higher. This is great because the show wouldn't continue without having an average of solid ratings of 7 or more.  \n",
    "\n",
    "Our next step is to convert the `RATING` into a boolean. In order to achieve a better balance between high and low ratings, this is achieved through: \n",
    "- Any score above a value of 8 will be assigned 1 (Good Ratings)\n",
    "- Any score between 1-7 will be be assigned 0 (Bad Ratings)\n",
    "\n",
    "Let's convert our `RATING` column to Boolean values. \n",
    "\n"
   ]
  },
  {
   "cell_type": "code",
   "execution_count": 8,
   "metadata": {
    "id": "BxUg2XdJLRQ5"
   },
   "outputs": [],
   "source": [
    "# convert the RATING column into binary values \n",
    "ST_df['RATING'] = np.where(ST_df['RATING'] >= 8, 1, 0)"
   ]
  },
  {
   "cell_type": "code",
   "execution_count": 9,
   "metadata": {
    "id": "7MPpYuhzLdoV"
   },
   "outputs": [
    {
     "data": {
      "text/html": [
       "<div>\n",
       "<style scoped>\n",
       "    .dataframe tbody tr th:only-of-type {\n",
       "        vertical-align: middle;\n",
       "    }\n",
       "\n",
       "    .dataframe tbody tr th {\n",
       "        vertical-align: top;\n",
       "    }\n",
       "\n",
       "    .dataframe thead th {\n",
       "        text-align: right;\n",
       "    }\n",
       "</style>\n",
       "<table border=\"1\" class=\"dataframe\">\n",
       "  <thead>\n",
       "    <tr style=\"text-align: right;\">\n",
       "      <th></th>\n",
       "      <th>EPISODE</th>\n",
       "      <th>PICARD_PCT</th>\n",
       "      <th>RIKER_PCT</th>\n",
       "      <th>DATA_PCT</th>\n",
       "      <th>WORF_PCT</th>\n",
       "      <th>TROI_PCT</th>\n",
       "      <th>BEVERLY_PCT</th>\n",
       "      <th>GEORDI_PCT</th>\n",
       "      <th>Q_PCT</th>\n",
       "      <th>LORE_PCT</th>\n",
       "      <th>TOTAL_WORDS</th>\n",
       "      <th>SCRIPT</th>\n",
       "      <th>RATING</th>\n",
       "    </tr>\n",
       "  </thead>\n",
       "  <tbody>\n",
       "    <tr>\n",
       "      <th>0</th>\n",
       "      <td>11001001</td>\n",
       "      <td>38.84</td>\n",
       "      <td>36.79</td>\n",
       "      <td>11.73</td>\n",
       "      <td>2.05</td>\n",
       "      <td>0.00</td>\n",
       "      <td>5.16</td>\n",
       "      <td>5.43</td>\n",
       "      <td>0.0</td>\n",
       "      <td>0.0</td>\n",
       "      <td>2634.0</td>\n",
       "      <td>captains log stardate 9 the enterprise has be...</td>\n",
       "      <td>1</td>\n",
       "    </tr>\n",
       "    <tr>\n",
       "      <th>1</th>\n",
       "      <td>a fistful of datas</td>\n",
       "      <td>12.89</td>\n",
       "      <td>3.38</td>\n",
       "      <td>16.98</td>\n",
       "      <td>28.58</td>\n",
       "      <td>16.79</td>\n",
       "      <td>4.76</td>\n",
       "      <td>16.64</td>\n",
       "      <td>0.0</td>\n",
       "      <td>0.0</td>\n",
       "      <td>2103.0</td>\n",
       "      <td>captains log stardate  the enterprise has ent...</td>\n",
       "      <td>1</td>\n",
       "    </tr>\n",
       "    <tr>\n",
       "      <th>2</th>\n",
       "      <td>a matter of honor</td>\n",
       "      <td>31.03</td>\n",
       "      <td>49.78</td>\n",
       "      <td>9.18</td>\n",
       "      <td>10.01</td>\n",
       "      <td>0.00</td>\n",
       "      <td>0.00</td>\n",
       "      <td>0.00</td>\n",
       "      <td>0.0</td>\n",
       "      <td>0.0</td>\n",
       "      <td>2037.0</td>\n",
       "      <td>we are approaching starbase onesevennine,  ha...</td>\n",
       "      <td>1</td>\n",
       "    </tr>\n",
       "    <tr>\n",
       "      <th>3</th>\n",
       "      <td>a matter of perspective</td>\n",
       "      <td>40.31</td>\n",
       "      <td>26.84</td>\n",
       "      <td>10.69</td>\n",
       "      <td>1.68</td>\n",
       "      <td>3.44</td>\n",
       "      <td>1.03</td>\n",
       "      <td>16.00</td>\n",
       "      <td>0.0</td>\n",
       "      <td>0.0</td>\n",
       "      <td>2731.0</td>\n",
       "      <td>we have arrived at tanuga four captain the aw...</td>\n",
       "      <td>0</td>\n",
       "    </tr>\n",
       "    <tr>\n",
       "      <th>4</th>\n",
       "      <td>a matter of time</td>\n",
       "      <td>37.49</td>\n",
       "      <td>10.42</td>\n",
       "      <td>20.31</td>\n",
       "      <td>6.02</td>\n",
       "      <td>2.68</td>\n",
       "      <td>6.30</td>\n",
       "      <td>16.79</td>\n",
       "      <td>0.0</td>\n",
       "      <td>0.0</td>\n",
       "      <td>2841.0</td>\n",
       "      <td>captains log stardate  the enterprise is on i...</td>\n",
       "      <td>0</td>\n",
       "    </tr>\n",
       "  </tbody>\n",
       "</table>\n",
       "</div>"
      ],
      "text/plain": [
       "                   EPISODE  PICARD_PCT  RIKER_PCT  DATA_PCT  WORF_PCT  \\\n",
       "0                 11001001       38.84      36.79     11.73      2.05   \n",
       "1       a fistful of datas       12.89       3.38     16.98     28.58   \n",
       "2        a matter of honor       31.03      49.78      9.18     10.01   \n",
       "3  a matter of perspective       40.31      26.84     10.69      1.68   \n",
       "4         a matter of time       37.49      10.42     20.31      6.02   \n",
       "\n",
       "   TROI_PCT  BEVERLY_PCT  GEORDI_PCT  Q_PCT  LORE_PCT  TOTAL_WORDS  \\\n",
       "0      0.00         5.16        5.43    0.0       0.0       2634.0   \n",
       "1     16.79         4.76       16.64    0.0       0.0       2103.0   \n",
       "2      0.00         0.00        0.00    0.0       0.0       2037.0   \n",
       "3      3.44         1.03       16.00    0.0       0.0       2731.0   \n",
       "4      2.68         6.30       16.79    0.0       0.0       2841.0   \n",
       "\n",
       "                                              SCRIPT  RATING  \n",
       "0   captains log stardate 9 the enterprise has be...       1  \n",
       "1   captains log stardate  the enterprise has ent...       1  \n",
       "2   we are approaching starbase onesevennine,  ha...       1  \n",
       "3   we have arrived at tanuga four captain the aw...       0  \n",
       "4   captains log stardate  the enterprise is on i...       0  "
      ]
     },
     "execution_count": 9,
     "metadata": {},
     "output_type": "execute_result"
    }
   ],
   "source": [
    "#sanity check\n",
    "ST_df.head()"
   ]
  },
  {
   "cell_type": "code",
   "execution_count": 10,
   "metadata": {
    "id": "7229dfAwJed2"
   },
   "outputs": [
    {
     "data": {
      "image/png": "[encoded data removed]",
      "text/plain": [
       "<Figure size 432x288 with 1 Axes>"
      ]
     },
     "metadata": {
      "needs_background": "light"
     },
     "output_type": "display_data"
    },
    {
     "name": "stdout",
     "output_type": "stream",
     "text": [
      "Class imbalance: [0.546 0.454]\n"
     ]
    }
   ],
   "source": [
    "# check target distribution in data\n",
    "\n",
    "# count the unique values and the number of times they appear\n",
    "values, counts = np.unique(ST_df['RATING'], return_counts=True)\n",
    "\n",
    "# normalize the counts to bring them into the same range (o and 1)\n",
    "normalized_counts = counts/counts.sum()\n",
    "\n",
    "# instantiate the plot\n",
    "plt.figure()\n",
    "\n",
    "# create a bar plot and convert the normalized_counts to percentage \n",
    "plt.bar([\"Not Good\", \"Good\"], normalized_counts*100, edgecolor='black', color='indigo') \n",
    "\n",
    "# relevant labels\n",
    "plt.xlabel('Rating')\n",
    "plt.ylabel('% of Reviews')\n",
    "plt.title('Class Imbalance of Ratings')\n",
    "sns.despine()\n",
    "plt.show()\n",
    "\n",
    "# print the distribution of class imbalance\n",
    "print(f\"Class imbalance: {np.round(normalized_counts, 3)}\")\n"
   ]
  },
  {
   "cell_type": "markdown",
   "metadata": {
    "id": "mUjxWqCONxAO"
   },
   "source": [
    "The result is an imbalance of 55% to 45%, which is a great result to work with the majority of model types. Remember, the distribution of the score was normally distributed, and converting the `RATING` in this manner allows the data to be modelled, without having to modify anything.\n",
    "\n",
    "Moving on, we can be confident going ahead with splitting the data set into train and test sets for our vectorization of the `RATING` column into numerical datatypes.\n",
    "\n",
    "Before even attempting to vectorize the `RATING` column, we need to split the set into training and testing sets. After the splitting is completed, the training set(s) will be fit and transformed. Sidenote: the testing data shouldn't be mixed with the fit and transformation of the data. The fitting and transformation process will be applied separately to the `RATING` column.\n",
    "\n",
    "Essentially:\n",
    "\n",
    "1. Split `ST_df` into train and test sets\n",
    "2. Apply `CountVectorizer()` on the training set for the `RATING` column\n",
    "3. With the fitted `RATING`, transform the `RATING` column for both X_train and X_test\n",
    "4. Save as a DataFrame\n",
    "5. Combine the transformed `RATING` dataframe with the rest of the numeric columns of the training and test dataset\n",
    "\n",
    "We'll begin by defining our X and y values:\n",
    "\n",
    "X : all columns except for `RATING` (independent)\n",
    "y : contains only `RATING` (dependent)"
   ]
  },
  {
   "cell_type": "code",
   "execution_count": 11,
   "metadata": {
    "id": "UM57Gz12Hkyn"
   },
   "outputs": [],
   "source": [
    "# separate df into features and target variable\n",
    "y = ST_df['RATING']\n",
    "# drop the target variable from the X dataframe (remaining features)\n",
    "X = ST_df.drop('RATING',axis=1)"
   ]
  },
  {
   "cell_type": "code",
   "execution_count": 12,
   "metadata": {},
   "outputs": [
    {
     "data": {
      "text/plain": [
       "(174, 12)"
      ]
     },
     "execution_count": 12,
     "metadata": {},
     "output_type": "execute_result"
    }
   ],
   "source": [
    "X.shape"
   ]
  },
  {
   "cell_type": "markdown",
   "metadata": {},
   "source": [
    "Now that we've separated the independent and dependent variables from each other, now we'll performing a train test split using a test size of 20% and will be using the `y` as the stratify parameter in order to maintain the same class distribution in the sample. "
   ]
  },
  {
   "cell_type": "code",
   "execution_count": 13,
   "metadata": {},
   "outputs": [
    {
     "name": "stdout",
     "output_type": "stream",
     "text": [
      "(139, 12) (139,)\n",
      "(35, 12) (35,)\n"
     ]
    }
   ],
   "source": [
    "# split the data into train and test size of 20%\n",
    "X_train, X_test, y_train, y_test = train_test_split(X, y, test_size=0.2, stratify=y, random_state=7)\n",
    "\n",
    "print(X_train.shape, y_train.shape)\n",
    "print(X_test.shape, y_test.shape)"
   ]
  },
  {
   "cell_type": "markdown",
   "metadata": {
    "id": "plXZ_YxQHkpP"
   },
   "source": [
    "Let's the double check the distribution of the classes between the original, training data and the testing data to make sure that the stratify parameter is performing as intended. "
   ]
  },
  {
   "cell_type": "code",
   "execution_count": 14,
   "metadata": {},
   "outputs": [
    {
     "name": "stdout",
     "output_type": "stream",
     "text": [
      "Original Data Proportions\n",
      "0    0.545977\n",
      "1    0.454023\n",
      "Name: RATING, dtype: float64 \n",
      "\n",
      "Training Data Proportions\n",
      "0    0.546763\n",
      "1    0.453237\n",
      "Name: RATING, dtype: float64 \n",
      "\n",
      "Testing Data Proportions\n",
      "0    0.542857\n",
      "1    0.457143\n",
      "Name: RATING, dtype: float64 \n",
      "\n"
     ]
    }
   ],
   "source": [
    "# class proportion in the original\n",
    "print(\"Original Data Proportions\")\n",
    "print(y.value_counts()/len(y), '\\n')\n",
    "\n",
    "# class proportion in the training data\n",
    "print(\"Training Data Proportions\")\n",
    "print(y_train.value_counts()/len(y_train), '\\n')\n",
    "\n",
    "# class proportion of the testing data\n",
    "print(\"Testing Data Proportions\")\n",
    "print(y_test.value_counts()/len(y_test), '\\n')"
   ]
  },
  {
   "cell_type": "markdown",
   "metadata": {},
   "source": [
    "### Tokenizing the Data\n",
    "\n",
    "Before even attempting to model our data that we have, we must tokenize the text data. Our text data is in each document is a list of strings combined together (it's grouped by episode, so all of the lines from each episode are condensed in there, separated by a comma). To ensure optimal results, we'll perform some last additional cleaning steps. \n",
    "\n",
    "The `CountVectorizer()` will take the document, and then splits it into separate parts while removing whitespaces, punctuation, and the removal of stopwords as well. In addition to this, the `CountVectorizer()` has a parameter that allows the removel of tokens that appear a few times across the corpus (`min_df`). \n",
    "\n",
    "Firstly, we'll use the `CountVectorizer()`  to transform the text data and then combine with it the main dataframe. "
   ]
  },
  {
   "cell_type": "code",
   "execution_count": 15,
   "metadata": {},
   "outputs": [
    {
     "name": "stderr",
     "output_type": "stream",
     "text": [
      "[nltk_data] Downloading package stopwords to\n",
      "[nltk_data]     C:\\Users\\Katya\\AppData\\Roaming\\nltk_data...\n",
      "[nltk_data]   Package stopwords is already up-to-date!\n",
      "[nltk_data] Downloading package punkt to\n",
      "[nltk_data]     C:\\Users\\Katya\\AppData\\Roaming\\nltk_data...\n",
      "[nltk_data]   Unzipping tokenizers\\punkt.zip.\n"
     ]
    },
    {
     "data": {
      "text/plain": [
       "True"
      ]
     },
     "execution_count": 15,
     "metadata": {},
     "output_type": "execute_result"
    }
   ],
   "source": [
    "# importing/downloading all the relevant packages\n",
    "import nltk\n",
    "nltk.download(\"stopwords\") # our filler words such as: the, and, for\n",
    "nltk.download(\"punkt\") # for punctuation"
   ]
  },
  {
   "cell_type": "code",
   "execution_count": 16,
   "metadata": {},
   "outputs": [],
   "source": [
    "# importing more packages\n",
    "import string\n",
    "from nltk.corpus import stopwords\n",
    "from sklearn.feature_extraction.text import CountVectorizer"
   ]
  },
  {
   "cell_type": "markdown",
   "metadata": {},
   "source": [
    "#### Finalizing the Cleaning\n",
    "\n",
    "Now we'll create a tokenizer that removes the stopwords, and the punctuation from our text data. In the previous notebook, we already did the majority of the cleaning needed for it, including setting to lowercase, some punctuation and stopword removal. However, it seems that not all the stopwords were taken care of. To explain this, during our feature engineering in Part 1... this included grouping the text data on the episode level, rather than a few hundred rows dedicated to a single episode. This means that each line is separated by a comma, and some stopwords are left behind.  \n",
    "\n",
    "*Here's an a small example of what it was before, where the text was line by line:*   \n",
    "\n",
    "|who| episode | text |\n",
    "|:----:|:------:|:-----:|\n",
    "| DATA | the measure of a man | i am a sentient being |\n",
    "| MADDOX | the measure of a man | no you are a robot | \n",
    "| RIKER | the measure of a man | data give me your arm |\n",
    "\n",
    "\n",
    "*Our current dataframe, with all the scripts collated in one document, separated by a comma:*\n",
    "\n",
    "| PICARD_PCT | DATA_PCT | episode | text |\n",
    "|:----:|:---:|:------------:|:------|\n",
    "| 53.5 | 29.1 | the measure of a man | i am a sentient being, no you are a robot, data give me your arm |\n",
    "| 35.23 | 9.64 | i borg | i am locutus of borg, the captain seemed not to respond to the nanobots | \n",
    "\n",
    "Now, we'll create a tokenizer that takes out the stopwords, and removes the punctuation."
   ]
  },
  {
   "cell_type": "code",
   "execution_count": 35,
   "metadata": {},
   "outputs": [],
   "source": [
    "eng_stopwords = stopwords.words('english')\n",
    "\n",
    "def my_tokenizer(sentence):\n",
    "    #remove punctuation\n",
    "    for punctuation_mark in string.punctuation: \n",
    "        sentence = sentence.replace(punctuation_mark, '')\n",
    "        \n",
    "    #split sentence into words\n",
    "    listofwords = sentence.split(' ')\n",
    "    \n",
    "    return\n",
    "            "
   ]
  },
  {
   "cell_type": "code",
   "execution_count": null,
   "metadata": {},
   "outputs": [],
   "source": []
  },
  {
   "cell_type": "code",
   "execution_count": null,
   "metadata": {},
   "outputs": [],
   "source": []
  }
 ],
 "metadata": {
  "colab": {
   "collapsed_sections": [],
   "name": "Part 2_StarTrek_Modelling.ipynb",
   "provenance": []
  },
  "kernelspec": {
   "display_name": "Python 3",
   "language": "python",
   "name": "python3"
  },
  "language_info": {
   "codemirror_mode": {
    "name": "ipython",
    "version": 3
   },
   "file_extension": ".py",
   "mimetype": "text/x-python",
   "name": "python",
   "nbconvert_exporter": "python",
   "pygments_lexer": "ipython3",
   "version": "3.8.8"
  }
 },
 "nbformat": 4,
 "nbformat_minor": 4
}
